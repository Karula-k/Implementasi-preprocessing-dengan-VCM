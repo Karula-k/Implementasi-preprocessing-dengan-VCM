{
  "nbformat": 4,
  "nbformat_minor": 0,
  "metadata": {
    "colab": {
      "provenance": [],
      "collapsed_sections": []
    },
    "kernelspec": {
      "name": "python3",
      "display_name": "Python 3"
    },
    "language_info": {
      "name": "python"
    }
  },
  "cells": [
    {
      "cell_type": "code",
      "execution_count": null,
      "metadata": {
        "id": "CPZUv0eG95UE",
        "colab": {
          "base_uri": "https://localhost:8080/"
        },
        "outputId": "832f888b-1b4c-4c26-e059-e94d0cc40139"
      },
      "outputs": [
        {
          "output_type": "stream",
          "name": "stdout",
          "text": [
            "Looking in indexes: https://pypi.org/simple, https://us-python.pkg.dev/colab-wheels/public/simple/\n",
            "Requirement already satisfied: Sastrawi in /usr/local/lib/python3.7/dist-packages (1.0.1)\n"
          ]
        }
      ],
      "source": [
        "!pip install Sastrawi"
      ]
    },
    {
      "cell_type": "code",
      "source": [
        "import pandas as pd\n",
        "import numpy as np\n",
        "import nltk\n",
        "from nltk.corpus import stopwords\n",
        "from nltk.tokenize import word_tokenize\n",
        "from sklearn.preprocessing import LabelEncoder\n",
        "from sklearn.feature_extraction.text import TfidfVectorizer"
      ],
      "metadata": {
        "id": "3JQcijNjOzQc"
      },
      "execution_count": null,
      "outputs": []
    },
    {
      "cell_type": "markdown",
      "source": [
        "# Menyiapkan Data"
      ],
      "metadata": {
        "id": "7Lce2eUtazIM"
      }
    },
    {
      "cell_type": "code",
      "source": [
        "df = pd.read_csv('/content/Hoax_training.csv')\n",
        "df.head()"
      ],
      "metadata": {
        "id": "ll8fztq9a23T",
        "colab": {
          "base_uri": "https://localhost:8080/",
          "height": 206
        },
        "outputId": "641ccd00-4daf-4f97-8c82-3cf57427a505"
      },
      "execution_count": null,
      "outputs": [
        {
          "output_type": "execute_result",
          "data": {
            "text/plain": [
              "    ID  label    tanggal                                              judul  \\\n",
              "0   71      1  17-Aug-20  Pemakaian Masker Menyebabkan Penyakit Legionna...   \n",
              "1  461      1  17-Jul-20  Instruksi Gubernur Jateng tentang penilangan  ...   \n",
              "2  495      1  13-Jul-20  Foto Jim Rohn: Jokowi adalah presiden terbaik ...   \n",
              "3  550      1   8-Jul-20  ini bukan politik, tapi kenyataan Pak Jokowi b...   \n",
              "4  681      1  24-Jun-20       Foto Kadrun kalo lihat foto ini panas dingin   \n",
              "\n",
              "                                              narasi nama file gambar  \n",
              "0  A caller to a radio talk show recently shared ...           71.jpg  \n",
              "1  Yth.Seluruh Anggota Grup Sesuai Instruksi Gube...          461.png  \n",
              "2  Jokowi adalah presiden terbaik dlm sejarah ban...          495.png  \n",
              "3  Maaf Mas2 dan Mbak2, ini bukan politik, tapi k...          550.png  \n",
              "4        Kadrun kalo lihat foto ini panas dingin . .          681.jpg  "
            ],
            "text/html": [
              "\n",
              "  <div id=\"df-cbb49f0f-2ce4-45d6-911b-b0e48c92574f\">\n",
              "    <div class=\"colab-df-container\">\n",
              "      <div>\n",
              "<style scoped>\n",
              "    .dataframe tbody tr th:only-of-type {\n",
              "        vertical-align: middle;\n",
              "    }\n",
              "\n",
              "    .dataframe tbody tr th {\n",
              "        vertical-align: top;\n",
              "    }\n",
              "\n",
              "    .dataframe thead th {\n",
              "        text-align: right;\n",
              "    }\n",
              "</style>\n",
              "<table border=\"1\" class=\"dataframe\">\n",
              "  <thead>\n",
              "    <tr style=\"text-align: right;\">\n",
              "      <th></th>\n",
              "      <th>ID</th>\n",
              "      <th>label</th>\n",
              "      <th>tanggal</th>\n",
              "      <th>judul</th>\n",
              "      <th>narasi</th>\n",
              "      <th>nama file gambar</th>\n",
              "    </tr>\n",
              "  </thead>\n",
              "  <tbody>\n",
              "    <tr>\n",
              "      <th>0</th>\n",
              "      <td>71</td>\n",
              "      <td>1</td>\n",
              "      <td>17-Aug-20</td>\n",
              "      <td>Pemakaian Masker Menyebabkan Penyakit Legionna...</td>\n",
              "      <td>A caller to a radio talk show recently shared ...</td>\n",
              "      <td>71.jpg</td>\n",
              "    </tr>\n",
              "    <tr>\n",
              "      <th>1</th>\n",
              "      <td>461</td>\n",
              "      <td>1</td>\n",
              "      <td>17-Jul-20</td>\n",
              "      <td>Instruksi Gubernur Jateng tentang penilangan  ...</td>\n",
              "      <td>Yth.Seluruh Anggota Grup Sesuai Instruksi Gube...</td>\n",
              "      <td>461.png</td>\n",
              "    </tr>\n",
              "    <tr>\n",
              "      <th>2</th>\n",
              "      <td>495</td>\n",
              "      <td>1</td>\n",
              "      <td>13-Jul-20</td>\n",
              "      <td>Foto Jim Rohn: Jokowi adalah presiden terbaik ...</td>\n",
              "      <td>Jokowi adalah presiden terbaik dlm sejarah ban...</td>\n",
              "      <td>495.png</td>\n",
              "    </tr>\n",
              "    <tr>\n",
              "      <th>3</th>\n",
              "      <td>550</td>\n",
              "      <td>1</td>\n",
              "      <td>8-Jul-20</td>\n",
              "      <td>ini bukan politik, tapi kenyataan Pak Jokowi b...</td>\n",
              "      <td>Maaf Mas2 dan Mbak2, ini bukan politik, tapi k...</td>\n",
              "      <td>550.png</td>\n",
              "    </tr>\n",
              "    <tr>\n",
              "      <th>4</th>\n",
              "      <td>681</td>\n",
              "      <td>1</td>\n",
              "      <td>24-Jun-20</td>\n",
              "      <td>Foto Kadrun kalo lihat foto ini panas dingin</td>\n",
              "      <td>Kadrun kalo lihat foto ini panas dingin . .</td>\n",
              "      <td>681.jpg</td>\n",
              "    </tr>\n",
              "  </tbody>\n",
              "</table>\n",
              "</div>\n",
              "      <button class=\"colab-df-convert\" onclick=\"convertToInteractive('df-cbb49f0f-2ce4-45d6-911b-b0e48c92574f')\"\n",
              "              title=\"Convert this dataframe to an interactive table.\"\n",
              "              style=\"display:none;\">\n",
              "        \n",
              "  <svg xmlns=\"http://www.w3.org/2000/svg\" height=\"24px\"viewBox=\"0 0 24 24\"\n",
              "       width=\"24px\">\n",
              "    <path d=\"M0 0h24v24H0V0z\" fill=\"none\"/>\n",
              "    <path d=\"M18.56 5.44l.94 2.06.94-2.06 2.06-.94-2.06-.94-.94-2.06-.94 2.06-2.06.94zm-11 1L8.5 8.5l.94-2.06 2.06-.94-2.06-.94L8.5 2.5l-.94 2.06-2.06.94zm10 10l.94 2.06.94-2.06 2.06-.94-2.06-.94-.94-2.06-.94 2.06-2.06.94z\"/><path d=\"M17.41 7.96l-1.37-1.37c-.4-.4-.92-.59-1.43-.59-.52 0-1.04.2-1.43.59L10.3 9.45l-7.72 7.72c-.78.78-.78 2.05 0 2.83L4 21.41c.39.39.9.59 1.41.59.51 0 1.02-.2 1.41-.59l7.78-7.78 2.81-2.81c.8-.78.8-2.07 0-2.86zM5.41 20L4 18.59l7.72-7.72 1.47 1.35L5.41 20z\"/>\n",
              "  </svg>\n",
              "      </button>\n",
              "      \n",
              "  <style>\n",
              "    .colab-df-container {\n",
              "      display:flex;\n",
              "      flex-wrap:wrap;\n",
              "      gap: 12px;\n",
              "    }\n",
              "\n",
              "    .colab-df-convert {\n",
              "      background-color: #E8F0FE;\n",
              "      border: none;\n",
              "      border-radius: 50%;\n",
              "      cursor: pointer;\n",
              "      display: none;\n",
              "      fill: #1967D2;\n",
              "      height: 32px;\n",
              "      padding: 0 0 0 0;\n",
              "      width: 32px;\n",
              "    }\n",
              "\n",
              "    .colab-df-convert:hover {\n",
              "      background-color: #E2EBFA;\n",
              "      box-shadow: 0px 1px 2px rgba(60, 64, 67, 0.3), 0px 1px 3px 1px rgba(60, 64, 67, 0.15);\n",
              "      fill: #174EA6;\n",
              "    }\n",
              "\n",
              "    [theme=dark] .colab-df-convert {\n",
              "      background-color: #3B4455;\n",
              "      fill: #D2E3FC;\n",
              "    }\n",
              "\n",
              "    [theme=dark] .colab-df-convert:hover {\n",
              "      background-color: #434B5C;\n",
              "      box-shadow: 0px 1px 3px 1px rgba(0, 0, 0, 0.15);\n",
              "      filter: drop-shadow(0px 1px 2px rgba(0, 0, 0, 0.3));\n",
              "      fill: #FFFFFF;\n",
              "    }\n",
              "  </style>\n",
              "\n",
              "      <script>\n",
              "        const buttonEl =\n",
              "          document.querySelector('#df-cbb49f0f-2ce4-45d6-911b-b0e48c92574f button.colab-df-convert');\n",
              "        buttonEl.style.display =\n",
              "          google.colab.kernel.accessAllowed ? 'block' : 'none';\n",
              "\n",
              "        async function convertToInteractive(key) {\n",
              "          const element = document.querySelector('#df-cbb49f0f-2ce4-45d6-911b-b0e48c92574f');\n",
              "          const dataTable =\n",
              "            await google.colab.kernel.invokeFunction('convertToInteractive',\n",
              "                                                     [key], {});\n",
              "          if (!dataTable) return;\n",
              "\n",
              "          const docLinkHtml = 'Like what you see? Visit the ' +\n",
              "            '<a target=\"_blank\" href=https://colab.research.google.com/notebooks/data_table.ipynb>data table notebook</a>'\n",
              "            + ' to learn more about interactive tables.';\n",
              "          element.innerHTML = '';\n",
              "          dataTable['output_type'] = 'display_data';\n",
              "          await google.colab.output.renderOutput(dataTable, element);\n",
              "          const docLink = document.createElement('div');\n",
              "          docLink.innerHTML = docLinkHtml;\n",
              "          element.appendChild(docLink);\n",
              "        }\n",
              "      </script>\n",
              "    </div>\n",
              "  </div>\n",
              "  "
            ]
          },
          "metadata": {},
          "execution_count": 8
        }
      ]
    },
    {
      "cell_type": "markdown",
      "source": [
        "# Preprocessing"
      ],
      "metadata": {
        "id": "tmSObdg6bEIH"
      }
    },
    {
      "cell_type": "markdown",
      "source": [
        "## Case Folding"
      ],
      "metadata": {
        "id": "GxdLiF1YbHZA"
      }
    },
    {
      "cell_type": "code",
      "source": [
        "# Mengubah semua huruf pada pada kolom judul dan narasi menjadi huruf kecil\n",
        "\n",
        "df['judul'] = df['judul'].str.lower()\n",
        "df['narasi'] = df['narasi'].str.lower()"
      ],
      "metadata": {
        "id": "OogSk6j_bGwG"
      },
      "execution_count": null,
      "outputs": []
    },
    {
      "cell_type": "code",
      "source": [
        "df"
      ],
      "metadata": {
        "colab": {
          "base_uri": "https://localhost:8080/",
          "height": 423
        },
        "id": "Si8t7fswT0Ba",
        "outputId": "89593f11-1118-4e70-9ac5-97716133249f"
      },
      "execution_count": null,
      "outputs": [
        {
          "output_type": "execute_result",
          "data": {
            "text/plain": [
              "          ID  label    tanggal  \\\n",
              "0         71      1  17-Aug-20   \n",
              "1        461      1  17-Jul-20   \n",
              "2        495      1  13-Jul-20   \n",
              "3        550      1   8-Jul-20   \n",
              "4        681      1  24-Jun-20   \n",
              "...      ...    ...        ...   \n",
              "4226  999287      1  17-Jan-16   \n",
              "4227  999472      1  20-Aug-20   \n",
              "4228  999501      1  17-Aug-20   \n",
              "4229  999848      1  21-Jul-20   \n",
              "4230  999860      1  20-Jul-20   \n",
              "\n",
              "                                                  judul  \\\n",
              "0     pemakaian masker menyebabkan penyakit legionna...   \n",
              "1     instruksi gubernur jateng tentang penilangan  ...   \n",
              "2     foto jim rohn: jokowi adalah presiden terbaik ...   \n",
              "3     ini bukan politik, tapi kenyataan pak jokowi b...   \n",
              "4          foto kadrun kalo lihat foto ini panas dingin   \n",
              "...                                                 ...   \n",
              "4226  : kpk dilarang membawa brimob bersenjata masuk...   \n",
              "4227            foto pejabat keuangan dibawah palu arit   \n",
              "4228  gambar denny siregar musuh warga tasikmalaya d...   \n",
              "4229  kaesang: bapak saya dengan kesederhaan bisa ni...   \n",
              "4230  laser dari termometer gun akan merusak struktu...   \n",
              "\n",
              "                                                 narasi nama file gambar  \n",
              "0     a caller to a radio talk show recently shared ...           71.jpg  \n",
              "1     yth.seluruh anggota grup sesuai instruksi gube...          461.png  \n",
              "2     jokowi adalah presiden terbaik dlm sejarah ban...          495.png  \n",
              "3     maaf mas2 dan mbak2, ini bukan politik, tapi k...          550.png  \n",
              "4           kadrun kalo lihat foto ini panas dingin . .          681.jpg  \n",
              "...                                                 ...              ...  \n",
              "4226  kpk dilarang membawa brimob bersenjata masuk g...       999287.jpg  \n",
              "4227  jangan mau dialihkan kepada pakaian adat… foku...       999472.png  \n",
              "4228                 akhir nya bisa terkenal bang denny       999501.jpg  \n",
              "4229  bapak saya dengan kesederhaan bisa nipu rakyat...       999848.jpg  \n",
              "4230  in: saya nolak. kalau anda mau periksa, bukan ...       999860.png  \n",
              "\n",
              "[4231 rows x 6 columns]"
            ],
            "text/html": [
              "\n",
              "  <div id=\"df-65e6db3c-ed68-4cbe-a961-c4bf8c3dd3d1\">\n",
              "    <div class=\"colab-df-container\">\n",
              "      <div>\n",
              "<style scoped>\n",
              "    .dataframe tbody tr th:only-of-type {\n",
              "        vertical-align: middle;\n",
              "    }\n",
              "\n",
              "    .dataframe tbody tr th {\n",
              "        vertical-align: top;\n",
              "    }\n",
              "\n",
              "    .dataframe thead th {\n",
              "        text-align: right;\n",
              "    }\n",
              "</style>\n",
              "<table border=\"1\" class=\"dataframe\">\n",
              "  <thead>\n",
              "    <tr style=\"text-align: right;\">\n",
              "      <th></th>\n",
              "      <th>ID</th>\n",
              "      <th>label</th>\n",
              "      <th>tanggal</th>\n",
              "      <th>judul</th>\n",
              "      <th>narasi</th>\n",
              "      <th>nama file gambar</th>\n",
              "    </tr>\n",
              "  </thead>\n",
              "  <tbody>\n",
              "    <tr>\n",
              "      <th>0</th>\n",
              "      <td>71</td>\n",
              "      <td>1</td>\n",
              "      <td>17-Aug-20</td>\n",
              "      <td>pemakaian masker menyebabkan penyakit legionna...</td>\n",
              "      <td>a caller to a radio talk show recently shared ...</td>\n",
              "      <td>71.jpg</td>\n",
              "    </tr>\n",
              "    <tr>\n",
              "      <th>1</th>\n",
              "      <td>461</td>\n",
              "      <td>1</td>\n",
              "      <td>17-Jul-20</td>\n",
              "      <td>instruksi gubernur jateng tentang penilangan  ...</td>\n",
              "      <td>yth.seluruh anggota grup sesuai instruksi gube...</td>\n",
              "      <td>461.png</td>\n",
              "    </tr>\n",
              "    <tr>\n",
              "      <th>2</th>\n",
              "      <td>495</td>\n",
              "      <td>1</td>\n",
              "      <td>13-Jul-20</td>\n",
              "      <td>foto jim rohn: jokowi adalah presiden terbaik ...</td>\n",
              "      <td>jokowi adalah presiden terbaik dlm sejarah ban...</td>\n",
              "      <td>495.png</td>\n",
              "    </tr>\n",
              "    <tr>\n",
              "      <th>3</th>\n",
              "      <td>550</td>\n",
              "      <td>1</td>\n",
              "      <td>8-Jul-20</td>\n",
              "      <td>ini bukan politik, tapi kenyataan pak jokowi b...</td>\n",
              "      <td>maaf mas2 dan mbak2, ini bukan politik, tapi k...</td>\n",
              "      <td>550.png</td>\n",
              "    </tr>\n",
              "    <tr>\n",
              "      <th>4</th>\n",
              "      <td>681</td>\n",
              "      <td>1</td>\n",
              "      <td>24-Jun-20</td>\n",
              "      <td>foto kadrun kalo lihat foto ini panas dingin</td>\n",
              "      <td>kadrun kalo lihat foto ini panas dingin . .</td>\n",
              "      <td>681.jpg</td>\n",
              "    </tr>\n",
              "    <tr>\n",
              "      <th>...</th>\n",
              "      <td>...</td>\n",
              "      <td>...</td>\n",
              "      <td>...</td>\n",
              "      <td>...</td>\n",
              "      <td>...</td>\n",
              "      <td>...</td>\n",
              "    </tr>\n",
              "    <tr>\n",
              "      <th>4226</th>\n",
              "      <td>999287</td>\n",
              "      <td>1</td>\n",
              "      <td>17-Jan-16</td>\n",
              "      <td>: kpk dilarang membawa brimob bersenjata masuk...</td>\n",
              "      <td>kpk dilarang membawa brimob bersenjata masuk g...</td>\n",
              "      <td>999287.jpg</td>\n",
              "    </tr>\n",
              "    <tr>\n",
              "      <th>4227</th>\n",
              "      <td>999472</td>\n",
              "      <td>1</td>\n",
              "      <td>20-Aug-20</td>\n",
              "      <td>foto pejabat keuangan dibawah palu arit</td>\n",
              "      <td>jangan mau dialihkan kepada pakaian adat… foku...</td>\n",
              "      <td>999472.png</td>\n",
              "    </tr>\n",
              "    <tr>\n",
              "      <th>4228</th>\n",
              "      <td>999501</td>\n",
              "      <td>1</td>\n",
              "      <td>17-Aug-20</td>\n",
              "      <td>gambar denny siregar musuh warga tasikmalaya d...</td>\n",
              "      <td>akhir nya bisa terkenal bang denny</td>\n",
              "      <td>999501.jpg</td>\n",
              "    </tr>\n",
              "    <tr>\n",
              "      <th>4229</th>\n",
              "      <td>999848</td>\n",
              "      <td>1</td>\n",
              "      <td>21-Jul-20</td>\n",
              "      <td>kaesang: bapak saya dengan kesederhaan bisa ni...</td>\n",
              "      <td>bapak saya dengan kesederhaan bisa nipu rakyat...</td>\n",
              "      <td>999848.jpg</td>\n",
              "    </tr>\n",
              "    <tr>\n",
              "      <th>4230</th>\n",
              "      <td>999860</td>\n",
              "      <td>1</td>\n",
              "      <td>20-Jul-20</td>\n",
              "      <td>laser dari termometer gun akan merusak struktu...</td>\n",
              "      <td>in: saya nolak. kalau anda mau periksa, bukan ...</td>\n",
              "      <td>999860.png</td>\n",
              "    </tr>\n",
              "  </tbody>\n",
              "</table>\n",
              "<p>4231 rows × 6 columns</p>\n",
              "</div>\n",
              "      <button class=\"colab-df-convert\" onclick=\"convertToInteractive('df-65e6db3c-ed68-4cbe-a961-c4bf8c3dd3d1')\"\n",
              "              title=\"Convert this dataframe to an interactive table.\"\n",
              "              style=\"display:none;\">\n",
              "        \n",
              "  <svg xmlns=\"http://www.w3.org/2000/svg\" height=\"24px\"viewBox=\"0 0 24 24\"\n",
              "       width=\"24px\">\n",
              "    <path d=\"M0 0h24v24H0V0z\" fill=\"none\"/>\n",
              "    <path d=\"M18.56 5.44l.94 2.06.94-2.06 2.06-.94-2.06-.94-.94-2.06-.94 2.06-2.06.94zm-11 1L8.5 8.5l.94-2.06 2.06-.94-2.06-.94L8.5 2.5l-.94 2.06-2.06.94zm10 10l.94 2.06.94-2.06 2.06-.94-2.06-.94-.94-2.06-.94 2.06-2.06.94z\"/><path d=\"M17.41 7.96l-1.37-1.37c-.4-.4-.92-.59-1.43-.59-.52 0-1.04.2-1.43.59L10.3 9.45l-7.72 7.72c-.78.78-.78 2.05 0 2.83L4 21.41c.39.39.9.59 1.41.59.51 0 1.02-.2 1.41-.59l7.78-7.78 2.81-2.81c.8-.78.8-2.07 0-2.86zM5.41 20L4 18.59l7.72-7.72 1.47 1.35L5.41 20z\"/>\n",
              "  </svg>\n",
              "      </button>\n",
              "      \n",
              "  <style>\n",
              "    .colab-df-container {\n",
              "      display:flex;\n",
              "      flex-wrap:wrap;\n",
              "      gap: 12px;\n",
              "    }\n",
              "\n",
              "    .colab-df-convert {\n",
              "      background-color: #E8F0FE;\n",
              "      border: none;\n",
              "      border-radius: 50%;\n",
              "      cursor: pointer;\n",
              "      display: none;\n",
              "      fill: #1967D2;\n",
              "      height: 32px;\n",
              "      padding: 0 0 0 0;\n",
              "      width: 32px;\n",
              "    }\n",
              "\n",
              "    .colab-df-convert:hover {\n",
              "      background-color: #E2EBFA;\n",
              "      box-shadow: 0px 1px 2px rgba(60, 64, 67, 0.3), 0px 1px 3px 1px rgba(60, 64, 67, 0.15);\n",
              "      fill: #174EA6;\n",
              "    }\n",
              "\n",
              "    [theme=dark] .colab-df-convert {\n",
              "      background-color: #3B4455;\n",
              "      fill: #D2E3FC;\n",
              "    }\n",
              "\n",
              "    [theme=dark] .colab-df-convert:hover {\n",
              "      background-color: #434B5C;\n",
              "      box-shadow: 0px 1px 3px 1px rgba(0, 0, 0, 0.15);\n",
              "      filter: drop-shadow(0px 1px 2px rgba(0, 0, 0, 0.3));\n",
              "      fill: #FFFFFF;\n",
              "    }\n",
              "  </style>\n",
              "\n",
              "      <script>\n",
              "        const buttonEl =\n",
              "          document.querySelector('#df-65e6db3c-ed68-4cbe-a961-c4bf8c3dd3d1 button.colab-df-convert');\n",
              "        buttonEl.style.display =\n",
              "          google.colab.kernel.accessAllowed ? 'block' : 'none';\n",
              "\n",
              "        async function convertToInteractive(key) {\n",
              "          const element = document.querySelector('#df-65e6db3c-ed68-4cbe-a961-c4bf8c3dd3d1');\n",
              "          const dataTable =\n",
              "            await google.colab.kernel.invokeFunction('convertToInteractive',\n",
              "                                                     [key], {});\n",
              "          if (!dataTable) return;\n",
              "\n",
              "          const docLinkHtml = 'Like what you see? Visit the ' +\n",
              "            '<a target=\"_blank\" href=https://colab.research.google.com/notebooks/data_table.ipynb>data table notebook</a>'\n",
              "            + ' to learn more about interactive tables.';\n",
              "          element.innerHTML = '';\n",
              "          dataTable['output_type'] = 'display_data';\n",
              "          await google.colab.output.renderOutput(dataTable, element);\n",
              "          const docLink = document.createElement('div');\n",
              "          docLink.innerHTML = docLinkHtml;\n",
              "          element.appendChild(docLink);\n",
              "        }\n",
              "      </script>\n",
              "    </div>\n",
              "  </div>\n",
              "  "
            ]
          },
          "metadata": {},
          "execution_count": 10
        }
      ]
    },
    {
      "cell_type": "markdown",
      "source": [
        "# Stemming"
      ],
      "metadata": {
        "id": "OhPnc9Hbbjk5"
      }
    },
    {
      "cell_type": "code",
      "source": [
        "from Sastrawi.Stemmer.StemmerFactory import StemmerFactory\n",
        "\n",
        "factory = StemmerFactory()\n",
        "stemmer = factory.create_stemmer()\n",
        "\n",
        "# stemmed\n",
        "def stemmed_wrapper(term):\n",
        "    return stemmer.stem(term)\n",
        "\n",
        "df['judul'] = df['judul'].apply(stemmed_wrapper)"
      ],
      "metadata": {
        "id": "8aVMWq_ybkwq"
      },
      "execution_count": null,
      "outputs": []
    },
    {
      "cell_type": "code",
      "source": [
        "df"
      ],
      "metadata": {
        "colab": {
          "base_uri": "https://localhost:8080/",
          "height": 423
        },
        "id": "XNHVe2a2W4LQ",
        "outputId": "73563ebf-b958-42ec-b348-3703e962c427"
      },
      "execution_count": null,
      "outputs": [
        {
          "output_type": "execute_result",
          "data": {
            "text/plain": [
              "          ID  label    tanggal  \\\n",
              "0         71      1  17-Aug-20   \n",
              "1        461      1  17-Jul-20   \n",
              "2        495      1  13-Jul-20   \n",
              "3        550      1   8-Jul-20   \n",
              "4        681      1  24-Jun-20   \n",
              "...      ...    ...        ...   \n",
              "4226  999287      1  17-Jan-16   \n",
              "4227  999472      1  20-Aug-20   \n",
              "4228  999501      1  17-Aug-20   \n",
              "4229  999848      1  21-Jul-20   \n",
              "4230  999860      1  20-Jul-20   \n",
              "\n",
              "                                                  judul  \\\n",
              "0                 pakai masker sebab sakit legionnaires   \n",
              "1     instruksi gubernur jateng tentang tilang bagi ...   \n",
              "2     foto jim rohn jokowi adalah presiden baik dlm ...   \n",
              "3     ini bukan politik tapi nyata pak jokowi hasil ...   \n",
              "4          foto kadrun kalo lihat foto ini panas dingin   \n",
              "...                                                 ...   \n",
              "4226    kpk larang bawa brimob senjata masuk gedung dpr   \n",
              "4227                    foto jabat uang bawah palu arit   \n",
              "4228  gambar denny siregar musuh warga tasikmalaya d...   \n",
              "4229  kaesang bapak saya dengan kesederhaan bisa nip...   \n",
              "4230  laser dari termometer gun akan rusak struktur ...   \n",
              "\n",
              "                                                 narasi nama file gambar  \n",
              "0     a caller to a radio talk show recently shared ...           71.jpg  \n",
              "1     yth.seluruh anggota grup sesuai instruksi gube...          461.png  \n",
              "2     jokowi adalah presiden terbaik dlm sejarah ban...          495.png  \n",
              "3     maaf mas2 dan mbak2, ini bukan politik, tapi k...          550.png  \n",
              "4           kadrun kalo lihat foto ini panas dingin . .          681.jpg  \n",
              "...                                                 ...              ...  \n",
              "4226  kpk dilarang membawa brimob bersenjata masuk g...       999287.jpg  \n",
              "4227  jangan mau dialihkan kepada pakaian adat… foku...       999472.png  \n",
              "4228                 akhir nya bisa terkenal bang denny       999501.jpg  \n",
              "4229  bapak saya dengan kesederhaan bisa nipu rakyat...       999848.jpg  \n",
              "4230  in: saya nolak. kalau anda mau periksa, bukan ...       999860.png  \n",
              "\n",
              "[4231 rows x 6 columns]"
            ],
            "text/html": [
              "\n",
              "  <div id=\"df-d938c673-501b-47b6-ac7e-55abe3877766\">\n",
              "    <div class=\"colab-df-container\">\n",
              "      <div>\n",
              "<style scoped>\n",
              "    .dataframe tbody tr th:only-of-type {\n",
              "        vertical-align: middle;\n",
              "    }\n",
              "\n",
              "    .dataframe tbody tr th {\n",
              "        vertical-align: top;\n",
              "    }\n",
              "\n",
              "    .dataframe thead th {\n",
              "        text-align: right;\n",
              "    }\n",
              "</style>\n",
              "<table border=\"1\" class=\"dataframe\">\n",
              "  <thead>\n",
              "    <tr style=\"text-align: right;\">\n",
              "      <th></th>\n",
              "      <th>ID</th>\n",
              "      <th>label</th>\n",
              "      <th>tanggal</th>\n",
              "      <th>judul</th>\n",
              "      <th>narasi</th>\n",
              "      <th>nama file gambar</th>\n",
              "    </tr>\n",
              "  </thead>\n",
              "  <tbody>\n",
              "    <tr>\n",
              "      <th>0</th>\n",
              "      <td>71</td>\n",
              "      <td>1</td>\n",
              "      <td>17-Aug-20</td>\n",
              "      <td>pakai masker sebab sakit legionnaires</td>\n",
              "      <td>a caller to a radio talk show recently shared ...</td>\n",
              "      <td>71.jpg</td>\n",
              "    </tr>\n",
              "    <tr>\n",
              "      <th>1</th>\n",
              "      <td>461</td>\n",
              "      <td>1</td>\n",
              "      <td>17-Jul-20</td>\n",
              "      <td>instruksi gubernur jateng tentang tilang bagi ...</td>\n",
              "      <td>yth.seluruh anggota grup sesuai instruksi gube...</td>\n",
              "      <td>461.png</td>\n",
              "    </tr>\n",
              "    <tr>\n",
              "      <th>2</th>\n",
              "      <td>495</td>\n",
              "      <td>1</td>\n",
              "      <td>13-Jul-20</td>\n",
              "      <td>foto jim rohn jokowi adalah presiden baik dlm ...</td>\n",
              "      <td>jokowi adalah presiden terbaik dlm sejarah ban...</td>\n",
              "      <td>495.png</td>\n",
              "    </tr>\n",
              "    <tr>\n",
              "      <th>3</th>\n",
              "      <td>550</td>\n",
              "      <td>1</td>\n",
              "      <td>8-Jul-20</td>\n",
              "      <td>ini bukan politik tapi nyata pak jokowi hasil ...</td>\n",
              "      <td>maaf mas2 dan mbak2, ini bukan politik, tapi k...</td>\n",
              "      <td>550.png</td>\n",
              "    </tr>\n",
              "    <tr>\n",
              "      <th>4</th>\n",
              "      <td>681</td>\n",
              "      <td>1</td>\n",
              "      <td>24-Jun-20</td>\n",
              "      <td>foto kadrun kalo lihat foto ini panas dingin</td>\n",
              "      <td>kadrun kalo lihat foto ini panas dingin . .</td>\n",
              "      <td>681.jpg</td>\n",
              "    </tr>\n",
              "    <tr>\n",
              "      <th>...</th>\n",
              "      <td>...</td>\n",
              "      <td>...</td>\n",
              "      <td>...</td>\n",
              "      <td>...</td>\n",
              "      <td>...</td>\n",
              "      <td>...</td>\n",
              "    </tr>\n",
              "    <tr>\n",
              "      <th>4226</th>\n",
              "      <td>999287</td>\n",
              "      <td>1</td>\n",
              "      <td>17-Jan-16</td>\n",
              "      <td>kpk larang bawa brimob senjata masuk gedung dpr</td>\n",
              "      <td>kpk dilarang membawa brimob bersenjata masuk g...</td>\n",
              "      <td>999287.jpg</td>\n",
              "    </tr>\n",
              "    <tr>\n",
              "      <th>4227</th>\n",
              "      <td>999472</td>\n",
              "      <td>1</td>\n",
              "      <td>20-Aug-20</td>\n",
              "      <td>foto jabat uang bawah palu arit</td>\n",
              "      <td>jangan mau dialihkan kepada pakaian adat… foku...</td>\n",
              "      <td>999472.png</td>\n",
              "    </tr>\n",
              "    <tr>\n",
              "      <th>4228</th>\n",
              "      <td>999501</td>\n",
              "      <td>1</td>\n",
              "      <td>17-Aug-20</td>\n",
              "      <td>gambar denny siregar musuh warga tasikmalaya d...</td>\n",
              "      <td>akhir nya bisa terkenal bang denny</td>\n",
              "      <td>999501.jpg</td>\n",
              "    </tr>\n",
              "    <tr>\n",
              "      <th>4229</th>\n",
              "      <td>999848</td>\n",
              "      <td>1</td>\n",
              "      <td>21-Jul-20</td>\n",
              "      <td>kaesang bapak saya dengan kesederhaan bisa nip...</td>\n",
              "      <td>bapak saya dengan kesederhaan bisa nipu rakyat...</td>\n",
              "      <td>999848.jpg</td>\n",
              "    </tr>\n",
              "    <tr>\n",
              "      <th>4230</th>\n",
              "      <td>999860</td>\n",
              "      <td>1</td>\n",
              "      <td>20-Jul-20</td>\n",
              "      <td>laser dari termometer gun akan rusak struktur ...</td>\n",
              "      <td>in: saya nolak. kalau anda mau periksa, bukan ...</td>\n",
              "      <td>999860.png</td>\n",
              "    </tr>\n",
              "  </tbody>\n",
              "</table>\n",
              "<p>4231 rows × 6 columns</p>\n",
              "</div>\n",
              "      <button class=\"colab-df-convert\" onclick=\"convertToInteractive('df-d938c673-501b-47b6-ac7e-55abe3877766')\"\n",
              "              title=\"Convert this dataframe to an interactive table.\"\n",
              "              style=\"display:none;\">\n",
              "        \n",
              "  <svg xmlns=\"http://www.w3.org/2000/svg\" height=\"24px\"viewBox=\"0 0 24 24\"\n",
              "       width=\"24px\">\n",
              "    <path d=\"M0 0h24v24H0V0z\" fill=\"none\"/>\n",
              "    <path d=\"M18.56 5.44l.94 2.06.94-2.06 2.06-.94-2.06-.94-.94-2.06-.94 2.06-2.06.94zm-11 1L8.5 8.5l.94-2.06 2.06-.94-2.06-.94L8.5 2.5l-.94 2.06-2.06.94zm10 10l.94 2.06.94-2.06 2.06-.94-2.06-.94-.94-2.06-.94 2.06-2.06.94z\"/><path d=\"M17.41 7.96l-1.37-1.37c-.4-.4-.92-.59-1.43-.59-.52 0-1.04.2-1.43.59L10.3 9.45l-7.72 7.72c-.78.78-.78 2.05 0 2.83L4 21.41c.39.39.9.59 1.41.59.51 0 1.02-.2 1.41-.59l7.78-7.78 2.81-2.81c.8-.78.8-2.07 0-2.86zM5.41 20L4 18.59l7.72-7.72 1.47 1.35L5.41 20z\"/>\n",
              "  </svg>\n",
              "      </button>\n",
              "      \n",
              "  <style>\n",
              "    .colab-df-container {\n",
              "      display:flex;\n",
              "      flex-wrap:wrap;\n",
              "      gap: 12px;\n",
              "    }\n",
              "\n",
              "    .colab-df-convert {\n",
              "      background-color: #E8F0FE;\n",
              "      border: none;\n",
              "      border-radius: 50%;\n",
              "      cursor: pointer;\n",
              "      display: none;\n",
              "      fill: #1967D2;\n",
              "      height: 32px;\n",
              "      padding: 0 0 0 0;\n",
              "      width: 32px;\n",
              "    }\n",
              "\n",
              "    .colab-df-convert:hover {\n",
              "      background-color: #E2EBFA;\n",
              "      box-shadow: 0px 1px 2px rgba(60, 64, 67, 0.3), 0px 1px 3px 1px rgba(60, 64, 67, 0.15);\n",
              "      fill: #174EA6;\n",
              "    }\n",
              "\n",
              "    [theme=dark] .colab-df-convert {\n",
              "      background-color: #3B4455;\n",
              "      fill: #D2E3FC;\n",
              "    }\n",
              "\n",
              "    [theme=dark] .colab-df-convert:hover {\n",
              "      background-color: #434B5C;\n",
              "      box-shadow: 0px 1px 3px 1px rgba(0, 0, 0, 0.15);\n",
              "      filter: drop-shadow(0px 1px 2px rgba(0, 0, 0, 0.3));\n",
              "      fill: #FFFFFF;\n",
              "    }\n",
              "  </style>\n",
              "\n",
              "      <script>\n",
              "        const buttonEl =\n",
              "          document.querySelector('#df-d938c673-501b-47b6-ac7e-55abe3877766 button.colab-df-convert');\n",
              "        buttonEl.style.display =\n",
              "          google.colab.kernel.accessAllowed ? 'block' : 'none';\n",
              "\n",
              "        async function convertToInteractive(key) {\n",
              "          const element = document.querySelector('#df-d938c673-501b-47b6-ac7e-55abe3877766');\n",
              "          const dataTable =\n",
              "            await google.colab.kernel.invokeFunction('convertToInteractive',\n",
              "                                                     [key], {});\n",
              "          if (!dataTable) return;\n",
              "\n",
              "          const docLinkHtml = 'Like what you see? Visit the ' +\n",
              "            '<a target=\"_blank\" href=https://colab.research.google.com/notebooks/data_table.ipynb>data table notebook</a>'\n",
              "            + ' to learn more about interactive tables.';\n",
              "          element.innerHTML = '';\n",
              "          dataTable['output_type'] = 'display_data';\n",
              "          await google.colab.output.renderOutput(dataTable, element);\n",
              "          const docLink = document.createElement('div');\n",
              "          docLink.innerHTML = docLinkHtml;\n",
              "          element.appendChild(docLink);\n",
              "        }\n",
              "      </script>\n",
              "    </div>\n",
              "  </div>\n",
              "  "
            ]
          },
          "metadata": {},
          "execution_count": 12
        }
      ]
    },
    {
      "cell_type": "markdown",
      "source": [
        "# Tokenizing"
      ],
      "metadata": {
        "id": "adWHzBvcb4QI"
      }
    },
    {
      "cell_type": "code",
      "source": [
        "nltk.download('punkt')\n",
        "from nltk.tokenize import word_tokenize \n",
        "import string \n",
        "import re\n",
        "\n",
        "# Hapus angka\n",
        "def remove_number(text):\n",
        "    return  re.sub(r\"\\d+\", \"\", text)\n",
        "\n",
        "df['judul'] = df['judul'].apply(remove_number)\n",
        "df['narasi'] = df['narasi'].apply(remove_number)\n",
        "\n",
        "# Hapus tanda baca\n",
        "def remove_punctuation(text):\n",
        "    return text.translate(str.maketrans(\"\",\"\",string.punctuation))\n",
        "\n",
        "df['judul'] = df['judul'].apply(remove_punctuation)\n",
        "df['narasi'] = df['narasi'].apply(remove_punctuation)\n",
        "\n",
        "# NLTK tokenize \n",
        "def word_tokenize_wrapper(text):\n",
        "    return word_tokenize(text)\n",
        "\n",
        "df['judul'] = df['judul'].apply(word_tokenize_wrapper)\n",
        "df['narasi'] = df['narasi'].apply(word_tokenize_wrapper)"
      ],
      "metadata": {
        "id": "_WbnXfjHb5oa",
        "colab": {
          "base_uri": "https://localhost:8080/"
        },
        "outputId": "01036b4f-d3f9-450c-c1a3-e5676149dfb0"
      },
      "execution_count": null,
      "outputs": [
        {
          "output_type": "stream",
          "name": "stderr",
          "text": [
            "[nltk_data] Downloading package punkt to /root/nltk_data...\n",
            "[nltk_data]   Unzipping tokenizers/punkt.zip.\n"
          ]
        }
      ]
    },
    {
      "cell_type": "code",
      "source": [
        "df"
      ],
      "metadata": {
        "colab": {
          "base_uri": "https://localhost:8080/",
          "height": 423
        },
        "id": "mJcIzoEFXzqC",
        "outputId": "54ea2fe7-1b74-4674-9305-b69d41e63969"
      },
      "execution_count": null,
      "outputs": [
        {
          "output_type": "execute_result",
          "data": {
            "text/plain": [
              "          ID  label    tanggal  \\\n",
              "0         71      1  17-Aug-20   \n",
              "1        461      1  17-Jul-20   \n",
              "2        495      1  13-Jul-20   \n",
              "3        550      1   8-Jul-20   \n",
              "4        681      1  24-Jun-20   \n",
              "...      ...    ...        ...   \n",
              "4226  999287      1  17-Jan-16   \n",
              "4227  999472      1  20-Aug-20   \n",
              "4228  999501      1  17-Aug-20   \n",
              "4229  999848      1  21-Jul-20   \n",
              "4230  999860      1  20-Jul-20   \n",
              "\n",
              "                                                  judul  \\\n",
              "0           [pakai, masker, sebab, sakit, legionnaires]   \n",
              "1     [instruksi, gubernur, jateng, tentang, tilang,...   \n",
              "2     [foto, jim, rohn, jokowi, adalah, presiden, ba...   \n",
              "3     [ini, bukan, politik, tapi, nyata, pak, jokowi...   \n",
              "4     [foto, kadrun, kalo, lihat, foto, ini, panas, ...   \n",
              "...                                                 ...   \n",
              "4226  [kpk, larang, bawa, brimob, senjata, masuk, ge...   \n",
              "4227             [foto, jabat, uang, bawah, palu, arit]   \n",
              "4228  [gambar, denny, siregar, musuh, warga, tasikma...   \n",
              "4229  [kaesang, bapak, saya, dengan, kesederhaan, bi...   \n",
              "4230  [laser, dari, termometer, gun, akan, rusak, st...   \n",
              "\n",
              "                                                 narasi nama file gambar  \n",
              "0     [a, caller, to, a, radio, talk, show, recently...           71.jpg  \n",
              "1     [ythseluruh, anggota, grup, sesuai, instruksi,...          461.png  \n",
              "2     [jokowi, adalah, presiden, terbaik, dlm, sejar...          495.png  \n",
              "3     [maaf, mas, dan, mbak, ini, bukan, politik, ta...          550.png  \n",
              "4       [kadrun, kalo, lihat, foto, ini, panas, dingin]          681.jpg  \n",
              "...                                                 ...              ...  \n",
              "4226  [kpk, dilarang, membawa, brimob, bersenjata, m...       999287.jpg  \n",
              "4227  [jangan, mau, dialihkan, kepada, pakaian, adat...       999472.png  \n",
              "4228          [akhir, nya, bisa, terkenal, bang, denny]       999501.jpg  \n",
              "4229  [bapak, saya, dengan, kesederhaan, bisa, nipu,...       999848.jpg  \n",
              "4230  [in, saya, nolak, kalau, anda, mau, periksa, b...       999860.png  \n",
              "\n",
              "[4231 rows x 6 columns]"
            ],
            "text/html": [
              "\n",
              "  <div id=\"df-d69ba0a3-82b5-428c-9beb-55e2b8eeb6da\">\n",
              "    <div class=\"colab-df-container\">\n",
              "      <div>\n",
              "<style scoped>\n",
              "    .dataframe tbody tr th:only-of-type {\n",
              "        vertical-align: middle;\n",
              "    }\n",
              "\n",
              "    .dataframe tbody tr th {\n",
              "        vertical-align: top;\n",
              "    }\n",
              "\n",
              "    .dataframe thead th {\n",
              "        text-align: right;\n",
              "    }\n",
              "</style>\n",
              "<table border=\"1\" class=\"dataframe\">\n",
              "  <thead>\n",
              "    <tr style=\"text-align: right;\">\n",
              "      <th></th>\n",
              "      <th>ID</th>\n",
              "      <th>label</th>\n",
              "      <th>tanggal</th>\n",
              "      <th>judul</th>\n",
              "      <th>narasi</th>\n",
              "      <th>nama file gambar</th>\n",
              "    </tr>\n",
              "  </thead>\n",
              "  <tbody>\n",
              "    <tr>\n",
              "      <th>0</th>\n",
              "      <td>71</td>\n",
              "      <td>1</td>\n",
              "      <td>17-Aug-20</td>\n",
              "      <td>[pakai, masker, sebab, sakit, legionnaires]</td>\n",
              "      <td>[a, caller, to, a, radio, talk, show, recently...</td>\n",
              "      <td>71.jpg</td>\n",
              "    </tr>\n",
              "    <tr>\n",
              "      <th>1</th>\n",
              "      <td>461</td>\n",
              "      <td>1</td>\n",
              "      <td>17-Jul-20</td>\n",
              "      <td>[instruksi, gubernur, jateng, tentang, tilang,...</td>\n",
              "      <td>[ythseluruh, anggota, grup, sesuai, instruksi,...</td>\n",
              "      <td>461.png</td>\n",
              "    </tr>\n",
              "    <tr>\n",
              "      <th>2</th>\n",
              "      <td>495</td>\n",
              "      <td>1</td>\n",
              "      <td>13-Jul-20</td>\n",
              "      <td>[foto, jim, rohn, jokowi, adalah, presiden, ba...</td>\n",
              "      <td>[jokowi, adalah, presiden, terbaik, dlm, sejar...</td>\n",
              "      <td>495.png</td>\n",
              "    </tr>\n",
              "    <tr>\n",
              "      <th>3</th>\n",
              "      <td>550</td>\n",
              "      <td>1</td>\n",
              "      <td>8-Jul-20</td>\n",
              "      <td>[ini, bukan, politik, tapi, nyata, pak, jokowi...</td>\n",
              "      <td>[maaf, mas, dan, mbak, ini, bukan, politik, ta...</td>\n",
              "      <td>550.png</td>\n",
              "    </tr>\n",
              "    <tr>\n",
              "      <th>4</th>\n",
              "      <td>681</td>\n",
              "      <td>1</td>\n",
              "      <td>24-Jun-20</td>\n",
              "      <td>[foto, kadrun, kalo, lihat, foto, ini, panas, ...</td>\n",
              "      <td>[kadrun, kalo, lihat, foto, ini, panas, dingin]</td>\n",
              "      <td>681.jpg</td>\n",
              "    </tr>\n",
              "    <tr>\n",
              "      <th>...</th>\n",
              "      <td>...</td>\n",
              "      <td>...</td>\n",
              "      <td>...</td>\n",
              "      <td>...</td>\n",
              "      <td>...</td>\n",
              "      <td>...</td>\n",
              "    </tr>\n",
              "    <tr>\n",
              "      <th>4226</th>\n",
              "      <td>999287</td>\n",
              "      <td>1</td>\n",
              "      <td>17-Jan-16</td>\n",
              "      <td>[kpk, larang, bawa, brimob, senjata, masuk, ge...</td>\n",
              "      <td>[kpk, dilarang, membawa, brimob, bersenjata, m...</td>\n",
              "      <td>999287.jpg</td>\n",
              "    </tr>\n",
              "    <tr>\n",
              "      <th>4227</th>\n",
              "      <td>999472</td>\n",
              "      <td>1</td>\n",
              "      <td>20-Aug-20</td>\n",
              "      <td>[foto, jabat, uang, bawah, palu, arit]</td>\n",
              "      <td>[jangan, mau, dialihkan, kepada, pakaian, adat...</td>\n",
              "      <td>999472.png</td>\n",
              "    </tr>\n",
              "    <tr>\n",
              "      <th>4228</th>\n",
              "      <td>999501</td>\n",
              "      <td>1</td>\n",
              "      <td>17-Aug-20</td>\n",
              "      <td>[gambar, denny, siregar, musuh, warga, tasikma...</td>\n",
              "      <td>[akhir, nya, bisa, terkenal, bang, denny]</td>\n",
              "      <td>999501.jpg</td>\n",
              "    </tr>\n",
              "    <tr>\n",
              "      <th>4229</th>\n",
              "      <td>999848</td>\n",
              "      <td>1</td>\n",
              "      <td>21-Jul-20</td>\n",
              "      <td>[kaesang, bapak, saya, dengan, kesederhaan, bi...</td>\n",
              "      <td>[bapak, saya, dengan, kesederhaan, bisa, nipu,...</td>\n",
              "      <td>999848.jpg</td>\n",
              "    </tr>\n",
              "    <tr>\n",
              "      <th>4230</th>\n",
              "      <td>999860</td>\n",
              "      <td>1</td>\n",
              "      <td>20-Jul-20</td>\n",
              "      <td>[laser, dari, termometer, gun, akan, rusak, st...</td>\n",
              "      <td>[in, saya, nolak, kalau, anda, mau, periksa, b...</td>\n",
              "      <td>999860.png</td>\n",
              "    </tr>\n",
              "  </tbody>\n",
              "</table>\n",
              "<p>4231 rows × 6 columns</p>\n",
              "</div>\n",
              "      <button class=\"colab-df-convert\" onclick=\"convertToInteractive('df-d69ba0a3-82b5-428c-9beb-55e2b8eeb6da')\"\n",
              "              title=\"Convert this dataframe to an interactive table.\"\n",
              "              style=\"display:none;\">\n",
              "        \n",
              "  <svg xmlns=\"http://www.w3.org/2000/svg\" height=\"24px\"viewBox=\"0 0 24 24\"\n",
              "       width=\"24px\">\n",
              "    <path d=\"M0 0h24v24H0V0z\" fill=\"none\"/>\n",
              "    <path d=\"M18.56 5.44l.94 2.06.94-2.06 2.06-.94-2.06-.94-.94-2.06-.94 2.06-2.06.94zm-11 1L8.5 8.5l.94-2.06 2.06-.94-2.06-.94L8.5 2.5l-.94 2.06-2.06.94zm10 10l.94 2.06.94-2.06 2.06-.94-2.06-.94-.94-2.06-.94 2.06-2.06.94z\"/><path d=\"M17.41 7.96l-1.37-1.37c-.4-.4-.92-.59-1.43-.59-.52 0-1.04.2-1.43.59L10.3 9.45l-7.72 7.72c-.78.78-.78 2.05 0 2.83L4 21.41c.39.39.9.59 1.41.59.51 0 1.02-.2 1.41-.59l7.78-7.78 2.81-2.81c.8-.78.8-2.07 0-2.86zM5.41 20L4 18.59l7.72-7.72 1.47 1.35L5.41 20z\"/>\n",
              "  </svg>\n",
              "      </button>\n",
              "      \n",
              "  <style>\n",
              "    .colab-df-container {\n",
              "      display:flex;\n",
              "      flex-wrap:wrap;\n",
              "      gap: 12px;\n",
              "    }\n",
              "\n",
              "    .colab-df-convert {\n",
              "      background-color: #E8F0FE;\n",
              "      border: none;\n",
              "      border-radius: 50%;\n",
              "      cursor: pointer;\n",
              "      display: none;\n",
              "      fill: #1967D2;\n",
              "      height: 32px;\n",
              "      padding: 0 0 0 0;\n",
              "      width: 32px;\n",
              "    }\n",
              "\n",
              "    .colab-df-convert:hover {\n",
              "      background-color: #E2EBFA;\n",
              "      box-shadow: 0px 1px 2px rgba(60, 64, 67, 0.3), 0px 1px 3px 1px rgba(60, 64, 67, 0.15);\n",
              "      fill: #174EA6;\n",
              "    }\n",
              "\n",
              "    [theme=dark] .colab-df-convert {\n",
              "      background-color: #3B4455;\n",
              "      fill: #D2E3FC;\n",
              "    }\n",
              "\n",
              "    [theme=dark] .colab-df-convert:hover {\n",
              "      background-color: #434B5C;\n",
              "      box-shadow: 0px 1px 3px 1px rgba(0, 0, 0, 0.15);\n",
              "      filter: drop-shadow(0px 1px 2px rgba(0, 0, 0, 0.3));\n",
              "      fill: #FFFFFF;\n",
              "    }\n",
              "  </style>\n",
              "\n",
              "      <script>\n",
              "        const buttonEl =\n",
              "          document.querySelector('#df-d69ba0a3-82b5-428c-9beb-55e2b8eeb6da button.colab-df-convert');\n",
              "        buttonEl.style.display =\n",
              "          google.colab.kernel.accessAllowed ? 'block' : 'none';\n",
              "\n",
              "        async function convertToInteractive(key) {\n",
              "          const element = document.querySelector('#df-d69ba0a3-82b5-428c-9beb-55e2b8eeb6da');\n",
              "          const dataTable =\n",
              "            await google.colab.kernel.invokeFunction('convertToInteractive',\n",
              "                                                     [key], {});\n",
              "          if (!dataTable) return;\n",
              "\n",
              "          const docLinkHtml = 'Like what you see? Visit the ' +\n",
              "            '<a target=\"_blank\" href=https://colab.research.google.com/notebooks/data_table.ipynb>data table notebook</a>'\n",
              "            + ' to learn more about interactive tables.';\n",
              "          element.innerHTML = '';\n",
              "          dataTable['output_type'] = 'display_data';\n",
              "          await google.colab.output.renderOutput(dataTable, element);\n",
              "          const docLink = document.createElement('div');\n",
              "          docLink.innerHTML = docLinkHtml;\n",
              "          element.appendChild(docLink);\n",
              "        }\n",
              "      </script>\n",
              "    </div>\n",
              "  </div>\n",
              "  "
            ]
          },
          "metadata": {},
          "execution_count": 14
        }
      ]
    },
    {
      "cell_type": "markdown",
      "source": [
        "# Stopword Removal"
      ],
      "metadata": {
        "id": "FLWCJjegb9WK"
      }
    },
    {
      "cell_type": "code",
      "source": [
        "# pemilihan kata-kata penting\n",
        "nltk.download('stopwords')\n",
        "\n",
        "list_stopwords = stopwords.words('indonesian')\n",
        "\n",
        "def stopwords_removal(words):\n",
        "  return [word for word in words if word not in list_stopwords]\n",
        "\n",
        "df['judul'] = df['judul'].apply(stopwords_removal) \n",
        "df['narasi'] = df['narasi'].apply(stopwords_removal) "
      ],
      "metadata": {
        "id": "skNzufdHb_d1",
        "colab": {
          "base_uri": "https://localhost:8080/"
        },
        "outputId": "d4267761-4466-4563-ec1a-e71456d5d80f"
      },
      "execution_count": null,
      "outputs": [
        {
          "output_type": "stream",
          "name": "stderr",
          "text": [
            "[nltk_data] Downloading package stopwords to /root/nltk_data...\n",
            "[nltk_data]   Unzipping corpora/stopwords.zip.\n"
          ]
        }
      ]
    },
    {
      "cell_type": "code",
      "source": [
        "df"
      ],
      "metadata": {
        "colab": {
          "base_uri": "https://localhost:8080/",
          "height": 423
        },
        "id": "tOby45gBX05p",
        "outputId": "858be78c-e368-47cf-e475-66f834c07ae9"
      },
      "execution_count": null,
      "outputs": [
        {
          "output_type": "execute_result",
          "data": {
            "text/plain": [
              "          ID  label    tanggal  \\\n",
              "0         71      1  17-Aug-20   \n",
              "1        461      1  17-Jul-20   \n",
              "2        495      1  13-Jul-20   \n",
              "3        550      1   8-Jul-20   \n",
              "4        681      1  24-Jun-20   \n",
              "...      ...    ...        ...   \n",
              "4226  999287      1  17-Jan-16   \n",
              "4227  999472      1  20-Aug-20   \n",
              "4228  999501      1  17-Aug-20   \n",
              "4229  999848      1  21-Jul-20   \n",
              "4230  999860      1  20-Jul-20   \n",
              "\n",
              "                                                  judul  \\\n",
              "0                  [pakai, masker, sakit, legionnaires]   \n",
              "1     [instruksi, gubernur, jateng, tilang, yg, mask...   \n",
              "2     [foto, jim, rohn, jokowi, presiden, dlm, sejar...   \n",
              "3     [politik, nyata, jokowi, hasil, pulang, triliu...   \n",
              "4      [foto, kadrun, kalo, lihat, foto, panas, dingin]   \n",
              "...                                                 ...   \n",
              "4226  [kpk, larang, bawa, brimob, senjata, masuk, ge...   \n",
              "4227                    [foto, jabat, uang, palu, arit]   \n",
              "4228  [gambar, denny, siregar, musuh, warga, tasikma...   \n",
              "4229    [kaesang, kesederhaan, nipu, rakyat, indonesia]   \n",
              "4230    [laser, termometer, gun, rusak, struktur, otak]   \n",
              "\n",
              "                                                 narasi nama file gambar  \n",
              "0     [a, caller, to, a, radio, talk, show, recently...           71.jpg  \n",
              "1     [ythseluruh, anggota, grup, sesuai, instruksi,...          461.png  \n",
              "2     [jokowi, presiden, terbaik, dlm, sejarah, bang...          495.png  \n",
              "3     [maaf, mas, mbak, politik, kenyataan, jokowi, ...          550.png  \n",
              "4            [kadrun, kalo, lihat, foto, panas, dingin]          681.jpg  \n",
              "...                                                 ...              ...  \n",
              "4226  [kpk, dilarang, membawa, brimob, bersenjata, m...       999287.jpg  \n",
              "4227  [dialihkan, pakaian, adat…, fokus, isyarat, co...       999472.png  \n",
              "4228                       [nya, terkenal, bang, denny]       999501.jpg  \n",
              "4229             [kesederhaan, nipu, rakyat, indonesia]       999848.jpg  \n",
              "4230  [in, nolak, periksa, periksa, kepala, periksa,...       999860.png  \n",
              "\n",
              "[4231 rows x 6 columns]"
            ],
            "text/html": [
              "\n",
              "  <div id=\"df-1c2f0de4-62df-4b0e-826e-f63f8bb1585d\">\n",
              "    <div class=\"colab-df-container\">\n",
              "      <div>\n",
              "<style scoped>\n",
              "    .dataframe tbody tr th:only-of-type {\n",
              "        vertical-align: middle;\n",
              "    }\n",
              "\n",
              "    .dataframe tbody tr th {\n",
              "        vertical-align: top;\n",
              "    }\n",
              "\n",
              "    .dataframe thead th {\n",
              "        text-align: right;\n",
              "    }\n",
              "</style>\n",
              "<table border=\"1\" class=\"dataframe\">\n",
              "  <thead>\n",
              "    <tr style=\"text-align: right;\">\n",
              "      <th></th>\n",
              "      <th>ID</th>\n",
              "      <th>label</th>\n",
              "      <th>tanggal</th>\n",
              "      <th>judul</th>\n",
              "      <th>narasi</th>\n",
              "      <th>nama file gambar</th>\n",
              "    </tr>\n",
              "  </thead>\n",
              "  <tbody>\n",
              "    <tr>\n",
              "      <th>0</th>\n",
              "      <td>71</td>\n",
              "      <td>1</td>\n",
              "      <td>17-Aug-20</td>\n",
              "      <td>[pakai, masker, sakit, legionnaires]</td>\n",
              "      <td>[a, caller, to, a, radio, talk, show, recently...</td>\n",
              "      <td>71.jpg</td>\n",
              "    </tr>\n",
              "    <tr>\n",
              "      <th>1</th>\n",
              "      <td>461</td>\n",
              "      <td>1</td>\n",
              "      <td>17-Jul-20</td>\n",
              "      <td>[instruksi, gubernur, jateng, tilang, yg, mask...</td>\n",
              "      <td>[ythseluruh, anggota, grup, sesuai, instruksi,...</td>\n",
              "      <td>461.png</td>\n",
              "    </tr>\n",
              "    <tr>\n",
              "      <th>2</th>\n",
              "      <td>495</td>\n",
              "      <td>1</td>\n",
              "      <td>13-Jul-20</td>\n",
              "      <td>[foto, jim, rohn, jokowi, presiden, dlm, sejar...</td>\n",
              "      <td>[jokowi, presiden, terbaik, dlm, sejarah, bang...</td>\n",
              "      <td>495.png</td>\n",
              "    </tr>\n",
              "    <tr>\n",
              "      <th>3</th>\n",
              "      <td>550</td>\n",
              "      <td>1</td>\n",
              "      <td>8-Jul-20</td>\n",
              "      <td>[politik, nyata, jokowi, hasil, pulang, triliu...</td>\n",
              "      <td>[maaf, mas, mbak, politik, kenyataan, jokowi, ...</td>\n",
              "      <td>550.png</td>\n",
              "    </tr>\n",
              "    <tr>\n",
              "      <th>4</th>\n",
              "      <td>681</td>\n",
              "      <td>1</td>\n",
              "      <td>24-Jun-20</td>\n",
              "      <td>[foto, kadrun, kalo, lihat, foto, panas, dingin]</td>\n",
              "      <td>[kadrun, kalo, lihat, foto, panas, dingin]</td>\n",
              "      <td>681.jpg</td>\n",
              "    </tr>\n",
              "    <tr>\n",
              "      <th>...</th>\n",
              "      <td>...</td>\n",
              "      <td>...</td>\n",
              "      <td>...</td>\n",
              "      <td>...</td>\n",
              "      <td>...</td>\n",
              "      <td>...</td>\n",
              "    </tr>\n",
              "    <tr>\n",
              "      <th>4226</th>\n",
              "      <td>999287</td>\n",
              "      <td>1</td>\n",
              "      <td>17-Jan-16</td>\n",
              "      <td>[kpk, larang, bawa, brimob, senjata, masuk, ge...</td>\n",
              "      <td>[kpk, dilarang, membawa, brimob, bersenjata, m...</td>\n",
              "      <td>999287.jpg</td>\n",
              "    </tr>\n",
              "    <tr>\n",
              "      <th>4227</th>\n",
              "      <td>999472</td>\n",
              "      <td>1</td>\n",
              "      <td>20-Aug-20</td>\n",
              "      <td>[foto, jabat, uang, palu, arit]</td>\n",
              "      <td>[dialihkan, pakaian, adat…, fokus, isyarat, co...</td>\n",
              "      <td>999472.png</td>\n",
              "    </tr>\n",
              "    <tr>\n",
              "      <th>4228</th>\n",
              "      <td>999501</td>\n",
              "      <td>1</td>\n",
              "      <td>17-Aug-20</td>\n",
              "      <td>[gambar, denny, siregar, musuh, warga, tasikma...</td>\n",
              "      <td>[nya, terkenal, bang, denny]</td>\n",
              "      <td>999501.jpg</td>\n",
              "    </tr>\n",
              "    <tr>\n",
              "      <th>4229</th>\n",
              "      <td>999848</td>\n",
              "      <td>1</td>\n",
              "      <td>21-Jul-20</td>\n",
              "      <td>[kaesang, kesederhaan, nipu, rakyat, indonesia]</td>\n",
              "      <td>[kesederhaan, nipu, rakyat, indonesia]</td>\n",
              "      <td>999848.jpg</td>\n",
              "    </tr>\n",
              "    <tr>\n",
              "      <th>4230</th>\n",
              "      <td>999860</td>\n",
              "      <td>1</td>\n",
              "      <td>20-Jul-20</td>\n",
              "      <td>[laser, termometer, gun, rusak, struktur, otak]</td>\n",
              "      <td>[in, nolak, periksa, periksa, kepala, periksa,...</td>\n",
              "      <td>999860.png</td>\n",
              "    </tr>\n",
              "  </tbody>\n",
              "</table>\n",
              "<p>4231 rows × 6 columns</p>\n",
              "</div>\n",
              "      <button class=\"colab-df-convert\" onclick=\"convertToInteractive('df-1c2f0de4-62df-4b0e-826e-f63f8bb1585d')\"\n",
              "              title=\"Convert this dataframe to an interactive table.\"\n",
              "              style=\"display:none;\">\n",
              "        \n",
              "  <svg xmlns=\"http://www.w3.org/2000/svg\" height=\"24px\"viewBox=\"0 0 24 24\"\n",
              "       width=\"24px\">\n",
              "    <path d=\"M0 0h24v24H0V0z\" fill=\"none\"/>\n",
              "    <path d=\"M18.56 5.44l.94 2.06.94-2.06 2.06-.94-2.06-.94-.94-2.06-.94 2.06-2.06.94zm-11 1L8.5 8.5l.94-2.06 2.06-.94-2.06-.94L8.5 2.5l-.94 2.06-2.06.94zm10 10l.94 2.06.94-2.06 2.06-.94-2.06-.94-.94-2.06-.94 2.06-2.06.94z\"/><path d=\"M17.41 7.96l-1.37-1.37c-.4-.4-.92-.59-1.43-.59-.52 0-1.04.2-1.43.59L10.3 9.45l-7.72 7.72c-.78.78-.78 2.05 0 2.83L4 21.41c.39.39.9.59 1.41.59.51 0 1.02-.2 1.41-.59l7.78-7.78 2.81-2.81c.8-.78.8-2.07 0-2.86zM5.41 20L4 18.59l7.72-7.72 1.47 1.35L5.41 20z\"/>\n",
              "  </svg>\n",
              "      </button>\n",
              "      \n",
              "  <style>\n",
              "    .colab-df-container {\n",
              "      display:flex;\n",
              "      flex-wrap:wrap;\n",
              "      gap: 12px;\n",
              "    }\n",
              "\n",
              "    .colab-df-convert {\n",
              "      background-color: #E8F0FE;\n",
              "      border: none;\n",
              "      border-radius: 50%;\n",
              "      cursor: pointer;\n",
              "      display: none;\n",
              "      fill: #1967D2;\n",
              "      height: 32px;\n",
              "      padding: 0 0 0 0;\n",
              "      width: 32px;\n",
              "    }\n",
              "\n",
              "    .colab-df-convert:hover {\n",
              "      background-color: #E2EBFA;\n",
              "      box-shadow: 0px 1px 2px rgba(60, 64, 67, 0.3), 0px 1px 3px 1px rgba(60, 64, 67, 0.15);\n",
              "      fill: #174EA6;\n",
              "    }\n",
              "\n",
              "    [theme=dark] .colab-df-convert {\n",
              "      background-color: #3B4455;\n",
              "      fill: #D2E3FC;\n",
              "    }\n",
              "\n",
              "    [theme=dark] .colab-df-convert:hover {\n",
              "      background-color: #434B5C;\n",
              "      box-shadow: 0px 1px 3px 1px rgba(0, 0, 0, 0.15);\n",
              "      filter: drop-shadow(0px 1px 2px rgba(0, 0, 0, 0.3));\n",
              "      fill: #FFFFFF;\n",
              "    }\n",
              "  </style>\n",
              "\n",
              "      <script>\n",
              "        const buttonEl =\n",
              "          document.querySelector('#df-1c2f0de4-62df-4b0e-826e-f63f8bb1585d button.colab-df-convert');\n",
              "        buttonEl.style.display =\n",
              "          google.colab.kernel.accessAllowed ? 'block' : 'none';\n",
              "\n",
              "        async function convertToInteractive(key) {\n",
              "          const element = document.querySelector('#df-1c2f0de4-62df-4b0e-826e-f63f8bb1585d');\n",
              "          const dataTable =\n",
              "            await google.colab.kernel.invokeFunction('convertToInteractive',\n",
              "                                                     [key], {});\n",
              "          if (!dataTable) return;\n",
              "\n",
              "          const docLinkHtml = 'Like what you see? Visit the ' +\n",
              "            '<a target=\"_blank\" href=https://colab.research.google.com/notebooks/data_table.ipynb>data table notebook</a>'\n",
              "            + ' to learn more about interactive tables.';\n",
              "          element.innerHTML = '';\n",
              "          dataTable['output_type'] = 'display_data';\n",
              "          await google.colab.output.renderOutput(dataTable, element);\n",
              "          const docLink = document.createElement('div');\n",
              "          docLink.innerHTML = docLinkHtml;\n",
              "          element.appendChild(docLink);\n",
              "        }\n",
              "      </script>\n",
              "    </div>\n",
              "  </div>\n",
              "  "
            ]
          },
          "metadata": {},
          "execution_count": 16
        }
      ]
    },
    {
      "cell_type": "markdown",
      "source": [
        "#Export Data Hasil Preprocessing"
      ],
      "metadata": {
        "id": "OSWh6Q34rKkS"
      }
    },
    {
      "cell_type": "code",
      "source": [
        "df.to_csv(\"Hoax_training_Preprocessing.csv\")"
      ],
      "metadata": {
        "id": "PpvWE9HJrOSO"
      },
      "execution_count": null,
      "outputs": []
    },
    {
      "cell_type": "markdown",
      "source": [
        "# SVM"
      ],
      "metadata": {
        "id": "fKHAHFBpy62R"
      }
    },
    {
      "cell_type": "code",
      "source": [
        "import math"
      ],
      "metadata": {
        "id": "hTvSF330jg8y"
      },
      "execution_count": null,
      "outputs": []
    },
    {
      "cell_type": "markdown",
      "source": [
        "## bow"
      ],
      "metadata": {
        "id": "dk1uQM_py8iB"
      }
    },
    {
      "cell_type": "code",
      "source": [
        "def bowCreate(documents):\n",
        "    return set(word for document in documents for word in document.split())"
      ],
      "metadata": {
        "id": "wJYFG9qJji9U"
      },
      "execution_count": null,
      "outputs": []
    },
    {
      "cell_type": "markdown",
      "source": [
        "## frekuensi index"
      ],
      "metadata": {
        "id": "ZZv3H6uYy-w5"
      }
    },
    {
      "cell_type": "code",
      "source": [
        "def frekuansiIndex(documents,bow):\n",
        "    return [{word:dok.count(word) for word in bow } for dok in documents ]"
      ],
      "metadata": {
        "id": "bn2aZixMjrIR"
      },
      "execution_count": null,
      "outputs": []
    },
    {
      "cell_type": "markdown",
      "source": [
        "## VSM document"
      ],
      "metadata": {
        "id": "fahKgfT2zDYp"
      }
    },
    {
      "cell_type": "code",
      "source": [
        "def vectorSpaceModel(documents,bow):\n",
        "    frekuansi = frekuansiIndex(documents,bow)\n",
        "    return [[i[j] for j in i] for i in frekuansi]"
      ],
      "metadata": {
        "id": "TqBOsttkjsNp"
      },
      "execution_count": null,
      "outputs": []
    },
    {
      "cell_type": "markdown",
      "source": [
        "## VSM query"
      ],
      "metadata": {
        "id": "qvUTf7RbzGyw"
      }
    },
    {
      "cell_type": "code",
      "source": [
        "def vectorQuery(query,bow):\n",
        "    return [query.count(j) for j in bow ]"
      ],
      "metadata": {
        "id": "L1rDFbwzjtgB"
      },
      "execution_count": null,
      "outputs": []
    },
    {
      "cell_type": "markdown",
      "source": [
        "## cosinus similarity"
      ],
      "metadata": {
        "id": "fFWu9II0zMkQ"
      }
    },
    {
      "cell_type": "code",
      "source": [
        "def cosSimilarity(query,documents):\n",
        "    bow = bowCreate(documents)\n",
        "    vector_space_model = vectorSpaceModel(documents,bow)\n",
        "    vector_query = vectorQuery(query,bow)\n",
        "    vector_query_bottom = sum([i**2 for i in vector_query])\n",
        "    result= []\n",
        "    for i in range(len(vector_space_model)):\n",
        "        upper =0\n",
        "        bottom= 0\n",
        "        for j in range(len(vector_space_model[i])):\n",
        "            upper += vector_space_model[i][j]*vector_query[j]\n",
        "            bottom +=vector_space_model[i][j]**2\n",
        "        result_temp = upper/math.sqrt(vector_query_bottom*bottom) if vector_query_bottom!=0 | bottom !=0 else 0\n",
        "        result.append({'id':i,'value':result_temp,})\n",
        "    return result"
      ],
      "metadata": {
        "id": "i7ZzpAJ4jup5"
      },
      "execution_count": null,
      "outputs": []
    },
    {
      "cell_type": "markdown",
      "source": [
        "## join data"
      ],
      "metadata": {
        "id": "NBho2zrczPcB"
      }
    },
    {
      "cell_type": "code",
      "source": [
        "judul = list(map(lambda x:\" \".join(x),df['judul'].values.tolist()))"
      ],
      "metadata": {
        "id": "Vdu8IrcTjwSJ"
      },
      "execution_count": null,
      "outputs": []
    },
    {
      "cell_type": "code",
      "source": [
        "narasi = list(map(lambda x:\" \".join(x),df['narasi'].values.tolist()))"
      ],
      "metadata": {
        "id": "gQ5DwA7FjxiC"
      },
      "execution_count": null,
      "outputs": []
    },
    {
      "cell_type": "markdown",
      "source": [
        "## Execute"
      ],
      "metadata": {
        "id": "XxTMz16AzSao"
      }
    },
    {
      "cell_type": "code",
      "source": [
        "value = cosSimilarity(\"jokowi\",judul+narasi)"
      ],
      "metadata": {
        "id": "mFqEvutwjy0B"
      },
      "execution_count": null,
      "outputs": []
    },
    {
      "cell_type": "code",
      "source": [
        "value[0]['value']"
      ],
      "metadata": {
        "colab": {
          "base_uri": "https://localhost:8080/"
        },
        "id": "y8zjvFortJIQ",
        "outputId": "7c3cb0f0-7479-4006-ecc5-ef7968c296f3"
      },
      "execution_count": null,
      "outputs": [
        {
          "output_type": "execute_result",
          "data": {
            "text/plain": [
              "0.20534249141832392"
            ]
          },
          "metadata": {},
          "execution_count": 27
        }
      ]
    },
    {
      "cell_type": "code",
      "source": [
        "sortedval = sorted(value,key=lambda x:x['value'],reverse=True)"
      ],
      "metadata": {
        "id": "-RODEgHqs8YM"
      },
      "execution_count": null,
      "outputs": []
    },
    {
      "cell_type": "code",
      "source": [
        "sortedval[:5]"
      ],
      "metadata": {
        "id": "WVQkBhdRnE3U",
        "colab": {
          "base_uri": "https://localhost:8080/"
        },
        "outputId": "20751bc5-e8a7-4345-8fe5-fed4ab9d8d5b"
      },
      "execution_count": null,
      "outputs": [
        {
          "output_type": "execute_result",
          "data": {
            "text/plain": [
              "[{'id': 5589, 'value': 0.9459053029269173},\n",
              " {'id': 955, 'value': 0.795411678668406},\n",
              " {'id': 3278, 'value': 0.7902958142673179},\n",
              " {'id': 6033, 'value': 0.7833128218667024},\n",
              " {'id': 4037, 'value': 0.7521804311928878}]"
            ]
          },
          "metadata": {},
          "execution_count": 29
        }
      ]
    },
    {
      "cell_type": "code",
      "source": [
        "narasi[5589-len(judul)]"
      ],
      "metadata": {
        "colab": {
          "base_uri": "https://localhost:8080/",
          "height": 36
        },
        "id": "WJxTBsLIFDBg",
        "outputId": "2afc74cb-d451-42dc-9ddf-2f865be83902"
      },
      "execution_count": null,
      "outputs": [
        {
          "output_type": "execute_result",
          "data": {
            "text/plain": [
              "'jokowi😭😭'"
            ],
            "application/vnd.google.colaboratory.intrinsic+json": {
              "type": "string"
            }
          },
          "metadata": {},
          "execution_count": 30
        }
      ]
    },
    {
      "cell_type": "code",
      "source": [
        "judul[955]"
      ],
      "metadata": {
        "colab": {
          "base_uri": "https://localhost:8080/",
          "height": 36
        },
        "id": "tm8tCpRWFPVY",
        "outputId": "78c0d84f-1e09-47ff-c737-6dcf30ce3293"
      },
      "execution_count": null,
      "outputs": [
        {
          "output_type": "execute_result",
          "data": {
            "text/plain": [
              "'bocor jokowi asli'"
            ],
            "application/vnd.google.colaboratory.intrinsic+json": {
              "type": "string"
            }
          },
          "metadata": {},
          "execution_count": 31
        }
      ]
    },
    {
      "cell_type": "code",
      "source": [
        "narasi[3278-len(judul)]"
      ],
      "metadata": {
        "colab": {
          "base_uri": "https://localhost:8080/",
          "height": 36
        },
        "id": "Dc86EhYvFTpL",
        "outputId": "b91f3bd1-1616-442b-a81d-4fc5dae3a256"
      },
      "execution_count": null,
      "outputs": [
        {
          "output_type": "execute_result",
          "data": {
            "text/plain": [
              "'kkn ugm jokowi…sembilan dosen menteri…untuk menjaga ijazah palsu sma jokowi'"
            ],
            "application/vnd.google.colaboratory.intrinsic+json": {
              "type": "string"
            }
          },
          "metadata": {},
          "execution_count": 32
        }
      ]
    },
    {
      "cell_type": "code",
      "source": [
        "narasi[6033-len(judul)]"
      ],
      "metadata": {
        "colab": {
          "base_uri": "https://localhost:8080/",
          "height": 36
        },
        "id": "qQa-4daTFX7a",
        "outputId": "8237d373-813d-4a56-c42b-56691e65fc95"
      },
      "execution_count": null,
      "outputs": [
        {
          "output_type": "execute_result",
          "data": {
            "text/plain": [
              "'jokowi jokowi jokowi cobong cebong cebong nih pkinya jokowi cebong'"
            ],
            "application/vnd.google.colaboratory.intrinsic+json": {
              "type": "string"
            }
          },
          "metadata": {},
          "execution_count": 33
        }
      ]
    },
    {
      "cell_type": "code",
      "source": [
        "narasi[4037-len(judul)]"
      ],
      "metadata": {
        "colab": {
          "base_uri": "https://localhost:8080/",
          "height": 36
        },
        "id": "crXf4gA8FctR",
        "outputId": "b2b63ae3-bb97-4490-8c35-11ba15fedfda"
      },
      "execution_count": null,
      "outputs": [
        {
          "output_type": "execute_result",
          "data": {
            "text/plain": [
              "'“ lagilagi terbukti shalat padang pencitraan shaf sengaja dimundurkan wartawan mudah memotret adegan shalatnya'"
            ],
            "application/vnd.google.colaboratory.intrinsic+json": {
              "type": "string"
            }
          },
          "metadata": {},
          "execution_count": 34
        }
      ]
    }
  ]
}